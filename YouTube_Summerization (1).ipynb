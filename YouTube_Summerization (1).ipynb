{
  "cells": [
    {
      "cell_type": "code",
      "execution_count": 30,
      "metadata": {
        "id": "6u7chHb1CCBm"
      },
      "outputs": [],
      "source": [
        "!pip install pytube -q"
      ]
    },
    {
      "cell_type": "code",
      "execution_count": 31,
      "metadata": {
        "id": "E-364QVyCI1a"
      },
      "outputs": [],
      "source": [
        "from pytube import YouTube"
      ]
    },
    {
      "cell_type": "code",
      "execution_count": 32,
      "metadata": {
        "id": "vJSwFwgiCJAg"
      },
      "outputs": [],
      "source": [
        "VIDEO_URL=\"https://www.youtube.com/watch?v=rLXcLBfDwvE\""
      ]
    },
    {
      "cell_type": "code",
      "execution_count": 33,
      "metadata": {
        "id": "uCE-8mNsCJCz"
      },
      "outputs": [],
      "source": [
        "yt=YouTube(VIDEO_URL)"
      ]
    },
    {
      "cell_type": "markdown",
      "metadata": {},
      "source": [
        "Extract Audio"
      ]
    },
    {
      "cell_type": "code",
      "execution_count": 34,
      "metadata": {
        "colab": {
          "base_uri": "https://localhost:8080/",
          "height": 36
        },
        "id": "Jtl6QsLuCJFi",
        "outputId": "ef93f8aa-23fe-4557-932c-babee8f80856"
      },
      "outputs": [
        {
          "data": {
            "application/vnd.google.colaboratory.intrinsic+json": {
              "type": "string"
            },
            "text/plain": [
              "'/content/ytaudio.mp4'"
            ]
          },
          "execution_count": 34,
          "metadata": {},
          "output_type": "execute_result"
        }
      ],
      "source": [
        "yt.streams.filter(only_audio=True,file_extension='mp4').first().download(filename='ytaudio.mp4')"
      ]
    },
    {
      "cell_type": "code",
      "execution_count": 35,
      "metadata": {
        "colab": {
          "base_uri": "https://localhost:8080/"
        },
        "id": "f4ZeyArqCJH7",
        "outputId": "bb01f945-27c4-42a5-d32e-5695d3d9bd9a"
      },
      "outputs": [
        {
          "name": "stdout",
          "output_type": "stream",
          "text": [
            "ffmpeg version 4.4.2-0ubuntu0.22.04.1 Copyright (c) 2000-2021 the FFmpeg developers\n",
            "  built with gcc 11 (Ubuntu 11.2.0-19ubuntu1)\n",
            "  configuration: --prefix=/usr --extra-version=0ubuntu0.22.04.1 --toolchain=hardened --libdir=/usr/lib/x86_64-linux-gnu --incdir=/usr/include/x86_64-linux-gnu --arch=amd64 --enable-gpl --disable-stripping --enable-gnutls --enable-ladspa --enable-libaom --enable-libass --enable-libbluray --enable-libbs2b --enable-libcaca --enable-libcdio --enable-libcodec2 --enable-libdav1d --enable-libflite --enable-libfontconfig --enable-libfreetype --enable-libfribidi --enable-libgme --enable-libgsm --enable-libjack --enable-libmp3lame --enable-libmysofa --enable-libopenjpeg --enable-libopenmpt --enable-libopus --enable-libpulse --enable-librabbitmq --enable-librubberband --enable-libshine --enable-libsnappy --enable-libsoxr --enable-libspeex --enable-libsrt --enable-libssh --enable-libtheora --enable-libtwolame --enable-libvidstab --enable-libvorbis --enable-libvpx --enable-libwebp --enable-libx265 --enable-libxml2 --enable-libxvid --enable-libzimg --enable-libzmq --enable-libzvbi --enable-lv2 --enable-omx --enable-openal --enable-opencl --enable-opengl --enable-sdl2 --enable-pocketsphinx --enable-librsvg --enable-libmfx --enable-libdc1394 --enable-libdrm --enable-libiec61883 --enable-chromaprint --enable-frei0r --enable-libx264 --enable-shared\n",
            "  libavutil      56. 70.100 / 56. 70.100\n",
            "  libavcodec     58.134.100 / 58.134.100\n",
            "  libavformat    58. 76.100 / 58. 76.100\n",
            "  libavdevice    58. 13.100 / 58. 13.100\n",
            "  libavfilter     7.110.100 /  7.110.100\n",
            "  libswscale      5.  9.100 /  5.  9.100\n",
            "  libswresample   3.  9.100 /  3.  9.100\n",
            "  libpostproc    55.  9.100 / 55.  9.100\n",
            "Input #0, mov,mp4,m4a,3gp,3g2,mj2, from 'ytaudio.mp4':\n",
            "  Metadata:\n",
            "    major_brand     : dash\n",
            "    minor_version   : 0\n",
            "    compatible_brands: iso6mp41\n",
            "    creation_time   : 2018-11-06T06:57:18.000000Z\n",
            "  Duration: 00:03:10.26, start: 0.000000, bitrate: 47 kb/s\n",
            "  Stream #0:0(eng): Audio: aac (HE-AAC) (mp4a / 0x6134706D), 44100 Hz, stereo, fltp, 2 kb/s (default)\n",
            "    Metadata:\n",
            "      creation_time   : 2018-11-06T06:57:18.000000Z\n",
            "      handler_name    : SoundHandler\n",
            "      vendor_id       : [0][0][0][0]\n",
            "File 'ytaudio.wav' already exists. Overwrite? [y/N] y\n",
            "Stream mapping:\n",
            "  Stream #0:0 -> #0:0 (aac (native) -> pcm_s16le (native))\n",
            "Press [q] to stop, [?] for help\n",
            "Output #0, wav, to 'ytaudio.wav':\n",
            "  Metadata:\n",
            "    major_brand     : dash\n",
            "    minor_version   : 0\n",
            "    compatible_brands: iso6mp41\n",
            "    ISFT            : Lavf58.76.100\n",
            "  Stream #0:0(eng): Audio: pcm_s16le ([1][0][0][0] / 0x0001), 16000 Hz, stereo, s16, 512 kb/s (default)\n",
            "    Metadata:\n",
            "      creation_time   : 2018-11-06T06:57:18.000000Z\n",
            "      handler_name    : SoundHandler\n",
            "      vendor_id       : [0][0][0][0]\n",
            "      encoder         : Lavc58.134.100 pcm_s16le\n",
            "size=   11892kB time=00:03:10.26 bitrate= 512.0kbits/s speed= 377x    \n",
            "video:0kB audio:11892kB subtitle:0kB other streams:0kB global headers:0kB muxing overhead: 0.000641%\n"
          ]
        }
      ],
      "source": [
        "!ffmpeg -i ytaudio.mp4 -acodec pcm_s16le -ar 16000 ytaudio.wav"
      ]
    },
    {
      "cell_type": "code",
      "execution_count": 36,
      "metadata": {
        "colab": {
          "base_uri": "https://localhost:8080/"
        },
        "id": "7q8Rz52jCJKD",
        "outputId": "e06d49f0-ddf9-4f75-f77d-b08c84742414"
      },
      "outputs": [
        {
          "name": "stdout",
          "output_type": "stream",
          "text": [
            "y\n"
          ]
        }
      ],
      "source": [
        "!pip install huggingsound -q"
      ]
    },
    {
      "cell_type": "code",
      "execution_count": 37,
      "metadata": {
        "id": "WtZeTMpeCJMU"
      },
      "outputs": [],
      "source": [
        "from huggingsound import SpeechRecognitionModel"
      ]
    },
    {
      "cell_type": "code",
      "execution_count": 38,
      "metadata": {
        "id": "OfwvNm77CJPF"
      },
      "outputs": [],
      "source": [
        "import torch\n",
        "device='cuda' if torch.cuda.is_available() else 'cpu'"
      ]
    },
    {
      "cell_type": "code",
      "execution_count": 39,
      "metadata": {
        "colab": {
          "base_uri": "https://localhost:8080/"
        },
        "id": "-LLACZC0CJRi",
        "outputId": "3966518d-1873-4cb7-8e0d-afdc8d81c489"
      },
      "outputs": [
        {
          "name": "stderr",
          "output_type": "stream",
          "text": [
            "INFO:huggingsound.speech_recognition.model:Loading model...\n"
          ]
        }
      ],
      "source": [
        "model=SpeechRecognitionModel(\"jonatasgrosman/wav2vec2-large-xlsr-53-english\",device=device)"
      ]
    },
    {
      "cell_type": "code",
      "execution_count": 40,
      "metadata": {
        "id": "1SoIMqdmCJUB"
      },
      "outputs": [],
      "source": [
        "import librosa"
      ]
    },
    {
      "cell_type": "code",
      "execution_count": 41,
      "metadata": {
        "id": "w0JX0kxCCJXj"
      },
      "outputs": [],
      "source": [
        "input_file='/content/ytaudio.wav'"
      ]
    },
    {
      "cell_type": "code",
      "execution_count": 42,
      "metadata": {
        "colab": {
          "base_uri": "https://localhost:8080/"
        },
        "id": "OXqn1QWzG-mZ",
        "outputId": "6cd7b1c8-8009-4a66-c353-ca63852a928d"
      },
      "outputs": [
        {
          "name": "stdout",
          "output_type": "stream",
          "text": [
            "16000\n"
          ]
        }
      ],
      "source": [
        "print(librosa.get_samplerate(input_file))\n",
        "\n",
        "stream=librosa.stream(\n",
        "    input_file,\n",
        "    block_length=30,\n",
        "    frame_length=16000,\n",
        "    hop_length=16000\n",
        ")"
      ]
    },
    {
      "cell_type": "code",
      "execution_count": 43,
      "metadata": {
        "id": "5lec6lj8Jc30"
      },
      "outputs": [],
      "source": [
        "import soundfile as sf"
      ]
    },
    {
      "cell_type": "code",
      "execution_count": 44,
      "metadata": {
        "id": "HOIsA1wxIVP6"
      },
      "outputs": [],
      "source": [
        "for i,speech in enumerate(stream):\n",
        "  sf.write(f'{i}.wav',speech,16000)"
      ]
    },
    {
      "cell_type": "markdown",
      "metadata": {
        "id": "OW48ECBVJwsz"
      },
      "source": [
        "***ASR/Speech to text***\n"
      ]
    },
    {
      "cell_type": "code",
      "execution_count": 45,
      "metadata": {
        "id": "weH3T__IIVW3"
      },
      "outputs": [],
      "source": [
        "audio_path=[]\n",
        "for a in range(i+1):\n",
        "  audio_path.append(f'/content/{a}.wav')"
      ]
    },
    {
      "cell_type": "code",
      "execution_count": 46,
      "metadata": {
        "colab": {
          "base_uri": "https://localhost:8080/"
        },
        "id": "8RlJ64q9KJxo",
        "outputId": "3eee9833-7992-4e9a-ec94-851bc540fb14"
      },
      "outputs": [
        {
          "data": {
            "text/plain": [
              "['/content/0.wav',\n",
              " '/content/1.wav',\n",
              " '/content/2.wav',\n",
              " '/content/3.wav',\n",
              " '/content/4.wav',\n",
              " '/content/5.wav',\n",
              " '/content/6.wav']"
            ]
          },
          "execution_count": 46,
          "metadata": {},
          "output_type": "execute_result"
        }
      ],
      "source": [
        "audio_path"
      ]
    },
    {
      "cell_type": "code",
      "execution_count": 47,
      "metadata": {
        "colab": {
          "base_uri": "https://localhost:8080/"
        },
        "id": "1NjWhM-iIVat",
        "outputId": "78ca493b-aecb-4316-eb63-f827e5f97d39"
      },
      "outputs": [
        {
          "name": "stderr",
          "output_type": "stream",
          "text": [
            "100%|██████████| 7/7 [03:54<00:00, 33.44s/it]\n"
          ]
        }
      ],
      "source": [
        "transcriptions=model.transcribe(audio_path)"
      ]
    },
    {
      "cell_type": "code",
      "execution_count": 48,
      "metadata": {
        "id": "nL5EkXNwKQOp"
      },
      "outputs": [],
      "source": [
        "full=''"
      ]
    },
    {
      "cell_type": "code",
      "execution_count": 49,
      "metadata": {
        "id": "KE3yNY7eKr4E"
      },
      "outputs": [],
      "source": [
        "for i in transcriptions:\n",
        "  full+=''.join(i['transcription'])"
      ]
    },
    {
      "cell_type": "code",
      "execution_count": 50,
      "metadata": {
        "colab": {
          "base_uri": "https://localhost:8080/",
          "height": 123
        },
        "id": "UnlDK4kgKr6O",
        "outputId": "fc9d2bc2-4ef2-4ed5-ddb3-8c3891e5c7dd"
      },
      "outputs": [
        {
          "data": {
            "application/vnd.google.colaboratory.intrinsic+json": {
              "type": "string"
            },
            "text/plain": [
              "\"thank you for such a wonderful introduction'mtoday talk about motivationand i've learned in my few years on earththat motivation is really the key to affecting change in anything that you do you can put a paper that was written without any motivation without any effort and you can put a paper that was written with drive and passion next to each other it's clear which one is the winner motivation is the underlying factorbelieve in that we do on a daily basis if you don't have motivon in something that youo really can't achieve what it is that you want to achieve everyone has motivation for things thathey're passionete about things that interest you things that inspire you ofof course you'll have motivn iifyou play a sport if you are in drama if you re n band you ave motivation to accomplish that task but the true test of afinding motivation is if you can find it in something that doesn't interest you personally i'm interested in sitting through town meetings and readnthe four-hundred and four-page town avarnsable budget but others might not find so much paper so interestinghowmotivation can be found in everything that you do i like tolook at it in terms of finding motivaonputting yourself in someone else's shoes wyoure questioning why do i have to do this why dont i aveter put in the time why o after putting the effort you can jst look at what you're doingandsay this helps this person because withis person is going to appreciate my effortmotivation on this task because and i'v always found that appreciation that others have for the effort that you put inthat's what it motivates me the fact that someone's going to appreciate what i didsowhenthe teacher gives you a paper something o nyou say thisis stupid iave better things to do i'd much rather go outside and throw football whwhatever it is look at it and say this person is going to appreciate the work this person put in the effort to create the assignment now e're going to see it and her going to appreciate itdo in every assignment that i'm given in everything htis ever brought before meand that's always i that i think we need to go out and look at whwhen we go atackle an issuefiling papers people might not find it interesting but think about how much help you're doing to sombody else think about the responsibility that your helping someone else fulfilland thats sort of helping appreciation motivates youfor e find dressingsomething that i like todo every single day and i dont  do it because enjoy it iause people appreciate people see that i took the extra time to prepare myself for whatever it is that i'm doing and they thank me for it and thanks that appreciation its truly motivates me to go out and do whatever it is that is put before mesofinished briefly igus by saying that motivation is so important in anything that you do and without it you really can't accomplish what you want but with it youhave the passion to affect change you have the passion to make a difference and you really do have the passion to go out and channge the way things are done and make a difference in anything that you wan ta do thank you for your time in your ears\""
            ]
          },
          "execution_count": 50,
          "metadata": {},
          "output_type": "execute_result"
        }
      ],
      "source": [
        "full #speech to text"
      ]
    },
    {
      "cell_type": "markdown",
      "metadata": {
        "id": "FR1HM6BGMBkJ"
      },
      "source": [
        "# Text **Summarization**"
      ]
    },
    {
      "cell_type": "code",
      "execution_count": 51,
      "metadata": {
        "id": "FxS49kg8Kr_D"
      },
      "outputs": [],
      "source": [
        "from transformers import pipeline"
      ]
    },
    {
      "cell_type": "code",
      "execution_count": 52,
      "metadata": {
        "colab": {
          "base_uri": "https://localhost:8080/"
        },
        "id": "BLAaMOcjKsBe",
        "outputId": "5cf0b8dc-b7b5-44b1-846c-40e97dadc574"
      },
      "outputs": [
        {
          "name": "stderr",
          "output_type": "stream",
          "text": [
            "No model was supplied, defaulted to sshleifer/distilbart-cnn-12-6 and revision a4f8f3e (https://huggingface.co/sshleifer/distilbart-cnn-12-6).\n",
            "Using a pipeline without specifying a model name and revision in production is not recommended.\n"
          ]
        }
      ],
      "source": [
        "summary=pipeline('summarization')"
      ]
    },
    {
      "cell_type": "code",
      "execution_count": 53,
      "metadata": {
        "colab": {
          "base_uri": "https://localhost:8080/"
        },
        "id": "4Qd_taB0KsE0",
        "outputId": "95fb3278-1a3a-4347-cc14-54c2f5e0348b"
      },
      "outputs": [
        {
          "data": {
            "text/plain": [
              "[{'summary_text': \" If you don't have motivation in something that youo really can't achieve what it is that you want to achieve . Everyone has motivation for things that they are passionate about . The true test of afinding motivation is if you can find it in something doesn't interest you personally i'm interested in sitting through town meetings .\"}]"
            ]
          },
          "execution_count": 53,
          "metadata": {},
          "output_type": "execute_result"
        }
      ],
      "source": [
        "summary(full)"
      ]
    },
    {
      "cell_type": "code",
      "execution_count": 54,
      "metadata": {
        "colab": {
          "base_uri": "https://localhost:8080/"
        },
        "id": "wsUYLB1BRJvv",
        "outputId": "4e113348-a89a-49f2-9c00-b426fd46bbe1"
      },
      "outputs": [
        {
          "name": "stdout",
          "output_type": "stream",
          "text": [
            "[\" If you don't have motivation in something that youo really can't achieve what it\", ' Howmotivation can be found in everything that you do i like to look at it', ' i think we need to go out and look at whwhen we go atackle an', ' E. e passion to go out and channge the way things are done and']\n"
          ]
        }
      ],
      "source": [
        "num_iters=int(len(full)/1000)\n",
        "summ_text=[]\n",
        "for i in range(0,num_iters+1):\n",
        "  start=0\n",
        "  start=i*1000\n",
        "  end=(i+1)*1000\n",
        "  out=summary(full[start:end],min_length=5,max_length=20)\n",
        "  out=out[0]\n",
        "  out=out['summary_text']\n",
        "  summ_text.append(out)\n",
        "print(summ_text)"
      ]
    },
    {
      "cell_type": "code",
      "execution_count": 54,
      "metadata": {
        "id": "IBp_yP9ZShH2"
      },
      "outputs": [],
      "source": []
    }
  ],
  "metadata": {
    "colab": {
      "provenance": []
    },
    "kernelspec": {
      "display_name": "Python 3",
      "name": "python3"
    },
    "language_info": {
      "name": "python"
    }
  },
  "nbformat": 4,
  "nbformat_minor": 0
}
